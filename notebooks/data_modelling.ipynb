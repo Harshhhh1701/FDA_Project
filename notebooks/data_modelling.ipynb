{
 "cells": [
  {
   "cell_type": "markdown",
   "metadata": {},
   "source": [
    "## Importing DATA"
   ]
  },
  {
   "cell_type": "code",
   "execution_count": 1,
   "metadata": {},
   "outputs": [],
   "source": [
    "import numpy as np\n",
    "import pandas as pd"
   ]
  },
  {
   "cell_type": "code",
   "execution_count": 2,
   "metadata": {},
   "outputs": [],
   "source": [
    "X_train = pd.read_csv(\"../data/train-data/X_train.csv\")\n",
    "y_train = pd.read_csv(\"../data/train-data/y_train.csv\")\n",
    "X_test = pd.read_csv(\"../data/test-data/X_test.csv\")\n",
    "y_test = pd.read_csv(\"../data/test-data/y_test.csv\")\n",
    "X_validation = pd.read_csv(\"../data/validation-data/X_validation.csv\")\n",
    "y_validation = pd.read_csv(\"../data/validation-data/y_validation.csv\")"
   ]
  },
  {
   "cell_type": "code",
   "execution_count": 3,
   "metadata": {},
   "outputs": [
    {
     "data": {
      "text/plain": [
       "((3576, 10), (3576, 1))"
      ]
     },
     "execution_count": 3,
     "metadata": {},
     "output_type": "execute_result"
    }
   ],
   "source": [
    "X_train.shape, y_train.shape"
   ]
  },
  {
   "cell_type": "code",
   "execution_count": 4,
   "metadata": {},
   "outputs": [
    {
     "data": {
      "text/plain": [
       "((766, 10), (766, 1))"
      ]
     },
     "execution_count": 4,
     "metadata": {},
     "output_type": "execute_result"
    }
   ],
   "source": [
    "X_validation.shape, y_validation.shape"
   ]
  },
  {
   "cell_type": "code",
   "execution_count": 5,
   "metadata": {},
   "outputs": [],
   "source": [
    "feature_columns = ['hypertension','heart_disease','ever_married','work_type','age','avg_glucose_level']"
   ]
  },
  {
   "cell_type": "markdown",
   "metadata": {},
   "source": [
    "## Logistic Regression"
   ]
  },
  {
   "cell_type": "code",
   "execution_count": 6,
   "metadata": {},
   "outputs": [],
   "source": [
    "from sklearn.linear_model import LogisticRegression"
   ]
  },
  {
   "cell_type": "code",
   "execution_count": 7,
   "metadata": {},
   "outputs": [
    {
     "name": "stdout",
     "output_type": "stream",
     "text": [
      "Logistic Regression Accuracy = 94.7781 %\n"
     ]
    }
   ],
   "source": [
    "logreg = LogisticRegression(solver='lbfgs', max_iter=1000)\n",
    "logreg.fit(X_train, y_train.values.ravel())\n",
    "lg_score = logreg.score(X_validation, y_validation)\n",
    "print(f\"Logistic Regression Accuracy = {lg_score*100:.4f} %\")"
   ]
  },
  {
   "cell_type": "markdown",
   "metadata": {},
   "source": [
    "## Decision Tree"
   ]
  },
  {
   "cell_type": "code",
   "execution_count": 8,
   "metadata": {},
   "outputs": [],
   "source": [
    "from sklearn.tree import DecisionTreeClassifier"
   ]
  },
  {
   "cell_type": "code",
   "execution_count": 9,
   "metadata": {},
   "outputs": [
    {
     "name": "stdout",
     "output_type": "stream",
     "text": [
      "Decision Tree Accuracy = 94.7781 %\n"
     ]
    }
   ],
   "source": [
    "dtree = DecisionTreeClassifier(max_depth=4)\n",
    "dtree.fit(X_train, y_train)\n",
    "dt_score = dtree.score(X_validation, y_validation)\n",
    "print(f\"Decision Tree Accuracy = {dt_score*100:.4f} %\")"
   ]
  },
  {
   "cell_type": "markdown",
   "metadata": {},
   "source": [
    "## Random Forest & AdaBoost"
   ]
  },
  {
   "cell_type": "code",
   "execution_count": 10,
   "metadata": {},
   "outputs": [],
   "source": [
    "from sklearn.ensemble import RandomForestClassifier, AdaBoostClassifier"
   ]
  },
  {
   "cell_type": "code",
   "execution_count": 11,
   "metadata": {},
   "outputs": [
    {
     "name": "stdout",
     "output_type": "stream",
     "text": [
      "Random Forest Accuracy = 94.7781 %\n",
      "AdaBoost Accuracy = 94.7781 %\n"
     ]
    }
   ],
   "source": [
    "ranfor = RandomForestClassifier(max_depth=4, n_estimators=100, max_features=6)\n",
    "adaboo = AdaBoostClassifier(n_estimators=10)\n",
    "ranfor.fit(X_train, y_train.values.ravel())\n",
    "adaboo.fit(X_train, y_train.values.ravel())\n",
    "rf_score = ranfor.score(X_validation, y_validation)\n",
    "ab_score = adaboo.score(X_validation, y_validation)\n",
    "print(f\"Random Forest Accuracy = {rf_score*100:.4f} %\")\n",
    "print(f\"AdaBoost Accuracy = {ab_score*100:.4f} %\")"
   ]
  },
  {
   "cell_type": "markdown",
   "metadata": {},
   "source": [
    "## K Neighbors"
   ]
  },
  {
   "cell_type": "code",
   "execution_count": 12,
   "metadata": {},
   "outputs": [],
   "source": [
    "from sklearn.neighbors import KNeighborsClassifier"
   ]
  },
  {
   "cell_type": "code",
   "execution_count": 13,
   "metadata": {},
   "outputs": [
    {
     "name": "stdout",
     "output_type": "stream",
     "text": [
      "K Neighbors Accuracy = 94.7781 %\n"
     ]
    },
    {
     "name": "stderr",
     "output_type": "stream",
     "text": [
      "c:\\Users\\Hunter\\AppData\\Local\\Programs\\Python\\Python39\\lib\\site-packages\\sklearn\\base.py:443: UserWarning: X has feature names, but KNeighborsClassifier was fitted without feature names\n",
      "  warnings.warn(\n"
     ]
    }
   ],
   "source": [
    "knn = KNeighborsClassifier(n_neighbors=10)\n",
    "knn.fit(X_train.values, y_train.values.ravel())\n",
    "kn_score = knn.score(X_validation, y_validation)\n",
    "print(f\"K Neighbors Accuracy = {kn_score*100:.4f} %\")"
   ]
  },
  {
   "cell_type": "markdown",
   "metadata": {},
   "source": [
    "## Support Vector Machine"
   ]
  },
  {
   "cell_type": "code",
   "execution_count": 14,
   "metadata": {},
   "outputs": [],
   "source": [
    "from sklearn.svm import SVC "
   ]
  },
  {
   "cell_type": "code",
   "execution_count": 15,
   "metadata": {},
   "outputs": [
    {
     "name": "stdout",
     "output_type": "stream",
     "text": [
      "SVM Accuracy = 94.7781 %\n"
     ]
    }
   ],
   "source": [
    "sv = SVC()\n",
    "sv.fit(X_train, y_train.values.ravel())\n",
    "sv_score = sv.score(X_validation, y_validation)\n",
    "print(f\"SVM Accuracy = {sv_score*100:.4f} %\")"
   ]
  },
  {
   "cell_type": "markdown",
   "metadata": {},
   "source": [
    "## Lasso Regression"
   ]
  },
  {
   "cell_type": "code",
   "execution_count": 16,
   "metadata": {},
   "outputs": [
    {
     "name": "stdout",
     "output_type": "stream",
     "text": [
      "Mean MAE: 0.089 0.007\n",
      "Lasso Accuracy = 1.6026 %\n"
     ]
    }
   ],
   "source": [
    "from numpy import mean, std, absolute\n",
    "from sklearn.model_selection import cross_val_score\n",
    "from sklearn.model_selection import RepeatedKFold\n",
    "from sklearn.linear_model import Lasso, LassoCV\n",
    "\n",
    "lasso = Lasso(alpha=1.0)\n",
    "cv = RepeatedKFold(n_splits=10, n_repeats=3, random_state=1)\n",
    "scores = cross_val_score(lasso, X_train, y_train, scoring='neg_mean_absolute_error', cv=cv, n_jobs=-1)\n",
    "scores = absolute(scores)\n",
    "print(f'Mean MAE: {mean(scores):.3f} {std(scores):.3f}')\n",
    "\n",
    "lasso.fit(X_train, y_train.values.ravel())\n",
    "lasso_score = lasso.score(X_validation, y_validation)\n",
    "print(f\"Lasso Accuracy = {lasso_score*100:.4f} %\")"
   ]
  },
  {
   "cell_type": "markdown",
   "metadata": {},
   "source": [
    "## Model Creation"
   ]
  },
  {
   "cell_type": "code",
   "execution_count": 17,
   "metadata": {},
   "outputs": [],
   "source": [
    "import pickle\n",
    "model = pickle.dump(knn, open(\"../models and app/final_model.pkl\", 'wb'))"
   ]
  },
  {
   "cell_type": "markdown",
   "metadata": {},
   "source": [
    "## Prediction"
   ]
  },
  {
   "cell_type": "code",
   "execution_count": 18,
   "metadata": {},
   "outputs": [],
   "source": [
    "def ValuePredictor(to_predict_list):\n",
    "    #print(\"to-predict\", to_predict_list)\n",
    "    to_predict = np.array(to_predict_list).reshape(1, 10)\n",
    "    loaded_model = pickle.load(open(\"../models and app/final_model.pkl\", \"rb\"))\n",
    "    result = loaded_model.predict(to_predict)\n",
    "    return result[0]"
   ]
  },
  {
   "cell_type": "code",
   "execution_count": 19,
   "metadata": {},
   "outputs": [
    {
     "name": "stdout",
     "output_type": "stream",
     "text": [
      "1 0\n"
     ]
    }
   ],
   "source": [
    "a = [[1, 78, 0, 0, 0, 1, 1, 109.4, 30.8, 1],[1, 31, 0, 0, 1, 1, 0, 62.68, 35.8, 1]]\n",
    "print(ValuePredictor(a[0]),ValuePredictor(a[1]))"
   ]
  }
 ],
 "metadata": {
  "kernelspec": {
   "display_name": "Python 3.9.6 64-bit",
   "language": "python",
   "name": "python3"
  },
  "language_info": {
   "codemirror_mode": {
    "name": "ipython",
    "version": 3
   },
   "file_extension": ".py",
   "mimetype": "text/x-python",
   "name": "python",
   "nbconvert_exporter": "python",
   "pygments_lexer": "ipython3",
   "version": "3.9.6"
  },
  "orig_nbformat": 4,
  "vscode": {
   "interpreter": {
    "hash": "2ea6e2759401c72f93fb16ffa300c72a8dd4ce3e55d7cb63d922513c12242f9b"
   }
  }
 },
 "nbformat": 4,
 "nbformat_minor": 2
}
