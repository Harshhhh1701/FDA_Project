{
 "cells": [
  {
   "cell_type": "code",
   "execution_count": 1,
   "metadata": {},
   "outputs": [],
   "source": [
    "# Importing Libraries\n",
    "\n",
    "import pandas as pd\n",
    "from sklearn.model_selection import train_test_split\n",
    "from sklearn.preprocessing import LabelEncoder, OrdinalEncoder\n",
    "from sklearn.feature_selection import SelectKBest, chi2, f_classif\n",
    "from matplotlib import pyplot"
   ]
  },
  {
   "cell_type": "code",
   "execution_count": 2,
   "metadata": {},
   "outputs": [
    {
     "data": {
      "text/html": [
       "<div>\n",
       "<style scoped>\n",
       "    .dataframe tbody tr th:only-of-type {\n",
       "        vertical-align: middle;\n",
       "    }\n",
       "\n",
       "    .dataframe tbody tr th {\n",
       "        vertical-align: top;\n",
       "    }\n",
       "\n",
       "    .dataframe thead th {\n",
       "        text-align: right;\n",
       "    }\n",
       "</style>\n",
       "<table border=\"1\" class=\"dataframe\">\n",
       "  <thead>\n",
       "    <tr style=\"text-align: right;\">\n",
       "      <th></th>\n",
       "      <th>gender</th>\n",
       "      <th>age</th>\n",
       "      <th>hypertension</th>\n",
       "      <th>heart_disease</th>\n",
       "      <th>ever_married</th>\n",
       "      <th>work_type</th>\n",
       "      <th>Residence_type</th>\n",
       "      <th>avg_glucose_level</th>\n",
       "      <th>bmi</th>\n",
       "      <th>smoking_status</th>\n",
       "      <th>stroke</th>\n",
       "    </tr>\n",
       "  </thead>\n",
       "  <tbody>\n",
       "    <tr>\n",
       "      <th>0</th>\n",
       "      <td>Male</td>\n",
       "      <td>67.0</td>\n",
       "      <td>0</td>\n",
       "      <td>1</td>\n",
       "      <td>Yes</td>\n",
       "      <td>Private</td>\n",
       "      <td>Urban</td>\n",
       "      <td>228.69</td>\n",
       "      <td>36.600000</td>\n",
       "      <td>formerly smoked</td>\n",
       "      <td>1</td>\n",
       "    </tr>\n",
       "    <tr>\n",
       "      <th>1</th>\n",
       "      <td>Female</td>\n",
       "      <td>61.0</td>\n",
       "      <td>0</td>\n",
       "      <td>0</td>\n",
       "      <td>Yes</td>\n",
       "      <td>Self-employed</td>\n",
       "      <td>Rural</td>\n",
       "      <td>202.21</td>\n",
       "      <td>28.893237</td>\n",
       "      <td>never smoked</td>\n",
       "      <td>1</td>\n",
       "    </tr>\n",
       "    <tr>\n",
       "      <th>2</th>\n",
       "      <td>Male</td>\n",
       "      <td>80.0</td>\n",
       "      <td>0</td>\n",
       "      <td>1</td>\n",
       "      <td>Yes</td>\n",
       "      <td>Private</td>\n",
       "      <td>Rural</td>\n",
       "      <td>105.92</td>\n",
       "      <td>32.500000</td>\n",
       "      <td>never smoked</td>\n",
       "      <td>1</td>\n",
       "    </tr>\n",
       "    <tr>\n",
       "      <th>3</th>\n",
       "      <td>Female</td>\n",
       "      <td>49.0</td>\n",
       "      <td>0</td>\n",
       "      <td>0</td>\n",
       "      <td>Yes</td>\n",
       "      <td>Private</td>\n",
       "      <td>Urban</td>\n",
       "      <td>171.23</td>\n",
       "      <td>34.400000</td>\n",
       "      <td>smokes</td>\n",
       "      <td>1</td>\n",
       "    </tr>\n",
       "    <tr>\n",
       "      <th>4</th>\n",
       "      <td>Female</td>\n",
       "      <td>79.0</td>\n",
       "      <td>1</td>\n",
       "      <td>0</td>\n",
       "      <td>Yes</td>\n",
       "      <td>Self-employed</td>\n",
       "      <td>Rural</td>\n",
       "      <td>174.12</td>\n",
       "      <td>24.000000</td>\n",
       "      <td>never smoked</td>\n",
       "      <td>1</td>\n",
       "    </tr>\n",
       "  </tbody>\n",
       "</table>\n",
       "</div>"
      ],
      "text/plain": [
       "   gender   age  hypertension  heart_disease ever_married      work_type  \\\n",
       "0    Male  67.0             0              1          Yes        Private   \n",
       "1  Female  61.0             0              0          Yes  Self-employed   \n",
       "2    Male  80.0             0              1          Yes        Private   \n",
       "3  Female  49.0             0              0          Yes        Private   \n",
       "4  Female  79.0             1              0          Yes  Self-employed   \n",
       "\n",
       "  Residence_type  avg_glucose_level        bmi   smoking_status  stroke  \n",
       "0          Urban             228.69  36.600000  formerly smoked       1  \n",
       "1          Rural             202.21  28.893237     never smoked       1  \n",
       "2          Rural             105.92  32.500000     never smoked       1  \n",
       "3          Urban             171.23  34.400000           smokes       1  \n",
       "4          Rural             174.12  24.000000     never smoked       1  "
      ]
     },
     "execution_count": 2,
     "metadata": {},
     "output_type": "execute_result"
    }
   ],
   "source": [
    "data = pd.read_csv('../data/final-stroke-data.csv')\n",
    "data.head()"
   ]
  },
  {
   "cell_type": "code",
   "execution_count": 3,
   "metadata": {},
   "outputs": [
    {
     "name": "stdout",
     "output_type": "stream",
     "text": [
      "<class 'pandas.core.frame.DataFrame'>\n",
      "RangeIndex: 5109 entries, 0 to 5108\n",
      "Data columns (total 11 columns):\n",
      " #   Column             Non-Null Count  Dtype  \n",
      "---  ------             --------------  -----  \n",
      " 0   gender             5109 non-null   object \n",
      " 1   age                5109 non-null   float64\n",
      " 2   hypertension       5109 non-null   int64  \n",
      " 3   heart_disease      5109 non-null   int64  \n",
      " 4   ever_married       5109 non-null   object \n",
      " 5   work_type          5109 non-null   object \n",
      " 6   Residence_type     5109 non-null   object \n",
      " 7   avg_glucose_level  5109 non-null   float64\n",
      " 8   bmi                5109 non-null   float64\n",
      " 9   smoking_status     5109 non-null   object \n",
      " 10  stroke             5109 non-null   int64  \n",
      "dtypes: float64(3), int64(3), object(5)\n",
      "memory usage: 439.2+ KB\n"
     ]
    }
   ],
   "source": [
    "data.info()"
   ]
  },
  {
   "cell_type": "markdown",
   "metadata": {},
   "source": [
    "## Feature Selection\n",
    "\n",
    "-   For Categorical Inputs - Chi-Squared test\n",
    "-   For Numerical Inputs - ANOVA f-test\n"
   ]
  },
  {
   "cell_type": "code",
   "execution_count": 4,
   "metadata": {},
   "outputs": [
    {
     "name": "stdout",
     "output_type": "stream",
     "text": [
      "\t----- Categorical features and its Scores -----\n",
      "Gender: 0.192143\n",
      "Hypertension: 58.755128\n",
      "Heart Disease: 69.300932\n",
      "Ever Married: 11.550448\n",
      "Work Type: 1.841953\n",
      "Residence Type: 0.758704\n",
      "Smoking Status: 1.993574\n"
     ]
    },
    {
     "data": {
      "image/png": "[encoded data removed]",
      "text/plain": [
       "<Figure size 720x360 with 1 Axes>"
      ]
     },
     "metadata": {
      "needs_background": "light"
     },
     "output_type": "display_data"
    },
    {
     "name": "stdout",
     "output_type": "stream",
     "text": [
      "\t----- Numerical features and its Scores -----\n",
      "Age: 241.988292\n",
      "Avg Glucose Level: 59.098331\n",
      "BMI: 7.262064\n"
     ]
    },
    {
     "data": {
      "image/png": "[encoded data removed]",
      "text/plain": [
       "<Figure size 432x288 with 1 Axes>"
      ]
     },
     "metadata": {
      "needs_background": "light"
     },
     "output_type": "display_data"
    }
   ],
   "source": [
    "cat_col = ['Gender', 'Hypertension', 'Heart Disease',\n",
    "           'Ever Married', 'Work Type', 'Residence Type', 'Smoking Status']\n",
    "num_col = ['Age', 'Avg Glucose Level', 'BMI']\n",
    "\n",
    "\n",
    "def load_data(data):\n",
    "    dataset = data.values\n",
    "    cat_X = dataset[:, [0, 2, 3, 4, 5, 6, 9]].astype(str)\n",
    "    num_X = dataset[:, [1, 7, 8]]\n",
    "    y = dataset[:, -1]\n",
    "    return cat_X, num_X, y\n",
    "\n",
    "\n",
    "# prepare input data for categorical columns\n",
    "def prepare_inputs(X_train, X_test):\n",
    "    oe = OrdinalEncoder()\n",
    "    oe.fit(X_train)\n",
    "    X_train_enc = oe.transform(X_train)\n",
    "    X_test_enc = oe.transform(X_test)\n",
    "    return X_train_enc, X_test_enc\n",
    "\n",
    "\n",
    "# prepare target for categorical columns\n",
    "def prepare_targets(y_train, y_test):\n",
    "    le = LabelEncoder()\n",
    "    le.fit(y_train)\n",
    "    y_train_enc = le.transform(y_train)\n",
    "    y_test_enc = le.transform(y_test)\n",
    "    return y_train_enc, y_test_enc\n",
    "\n",
    "\n",
    "# categorical feature selection\n",
    "def cat_select_features(catX_train, caty_train, catX_test):\n",
    "    cat_fs = SelectKBest(score_func=chi2, k='all')\n",
    "    cat_fs.fit(catX_train, caty_train)\n",
    "    catX_train_fs = cat_fs.transform(catX_train)\n",
    "    catX_test_fs = cat_fs.transform(catX_test)\n",
    "    return catX_train_fs, catX_test_fs, cat_fs\n",
    "\n",
    "\n",
    "# numerical feature selection\n",
    "def num_select_features(numX_train, numy_train, numX_test):\n",
    "    num_fs = SelectKBest(score_func=f_classif, k='all')\n",
    "    num_fs.fit(numX_train, numy_train)\n",
    "    numX_train_fs = num_fs.transform(numX_train)\n",
    "    numX_test_fs = num_fs.transform(numX_test)\n",
    "    return numX_train_fs, numX_test_fs, num_fs\n",
    "\n",
    "\n",
    "cat_X, num_X, y = load_data(data)\n",
    "\n",
    "\n",
    "# categorical train-test split\n",
    "catX_train, catX_test, caty_train, caty_test = train_test_split(cat_X, y, test_size=0.2, random_state=1)\n",
    "catX_train_enc, catX_test_enc = prepare_inputs(catX_train, catX_test)\n",
    "caty_train_enc, caty_test_enc = prepare_targets(caty_train, caty_test)\n",
    "\n",
    "# categorical feature selection\n",
    "catX_train_fs, catX_test_fs, catfs = cat_select_features(catX_train_enc, caty_train_enc, catX_test_enc)\n",
    "\n",
    "# numerical train-test split\n",
    "numX_train, numX_test, numy_train, numy_test = train_test_split(num_X, y, test_size=0.2, random_state=1)\n",
    "\n",
    "# numerical feature selection\n",
    "numX_train_fs, numX_test_fs, numfs = num_select_features(numX_train, numy_train, numX_test)\n",
    "\n",
    "# what are scores for the categorical features\n",
    "print(\"\\t----- Categorical features and its Scores -----\")\n",
    "for i in range(len(catfs.scores_)): print(f'{cat_col[i]:.s}: {catfs.scores_[i]:.6f}')\n",
    "    \n",
    "# plot the scores\n",
    "pyplot.figure(figsize=(10, 5))\n",
    "pyplot.bar(cat_col, catfs.scores_)\n",
    "pyplot.xticks(rotation=60)\n",
    "pyplot.show()\n",
    "\n",
    "# what are scores for the numerical features\n",
    "print(\"\\t----- Numerical features and its Scores -----\")\n",
    "for i in range(len(numfs.scores_)): print(f'{num_col[i]:.s}: {numfs.scores_[i]:.6f}')\n",
    "        \n",
    "# plot the scores\n",
    "pyplot.bar(num_col, numfs.scores_)\n",
    "pyplot.show()"
   ]
  },
  {
   "cell_type": "markdown",
   "metadata": {},
   "source": [
    "From the above, we come to a conclusion that <br>\n",
    "Categorical Columns such as **_Heart Disease_**, **_Hypertension_**, **_Ever Married_** and **_Smoking status_** and <br>\n",
    "Numerical Columns such as **_Age_**, **_Average Glucose Level_** are most relevant in stroke prediction.\n"
   ]
  }
 ],
 "metadata": {
  "interpreter": {
   "hash": "2be5faf79681da6f2a61fdfdd5405d65d042280f7fba6178067603e3a2925119"
  },
  "kernelspec": {
   "display_name": "Python 3.10.0 64-bit",
   "language": "python",
   "name": "python3"
  },
  "language_info": {
   "codemirror_mode": {
    "name": "ipython",
    "version": 3
   },
   "file_extension": ".py",
   "mimetype": "text/x-python",
   "name": "python",
   "nbconvert_exporter": "python",
   "pygments_lexer": "ipython3",
   "version": "3.10.0"
  },
  "orig_nbformat": 4
 },
 "nbformat": 4,
 "nbformat_minor": 2
}
